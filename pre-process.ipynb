{
 "cells": [
  {
   "cell_type": "code",
   "execution_count": 1,
   "metadata": {},
   "outputs": [],
   "source": [
    "import pandas as pd"
   ]
  },
  {
   "cell_type": "code",
   "execution_count": 2,
   "metadata": {},
   "outputs": [
    {
     "name": "stderr",
     "output_type": "stream",
     "text": [
      "/var/folders/w2/02kgc33150gg540z2kvhmgzm0000gn/T/ipykernel_61692/2505361486.py:1: DtypeWarning: Columns (1,2,3,5,6,7,9) have mixed types. Specify dtype option on import or set low_memory=False.\n",
      "  df_bar = pd.read_csv('Street_Tree_List-2022-01-30_RAW.csv')\n"
     ]
    }
   ],
   "source": [
    "df_bar = pd.read_csv('Street_Tree_List-2022-01-30_RAW.csv')"
   ]
  },
  {
   "cell_type": "code",
   "execution_count": 3,
   "metadata": {},
   "outputs": [],
   "source": [
    "df_bar = df_bar.dropna(subset=['PlantDate'])"
   ]
  },
  {
   "cell_type": "code",
   "execution_count": 4,
   "metadata": {},
   "outputs": [],
   "source": [
    "df_bar = df_bar[df_bar['qCaretaker'].isin(['Private', 'DPW'])]"
   ]
  },
  {
   "cell_type": "code",
   "execution_count": 5,
   "metadata": {},
   "outputs": [],
   "source": [
    "df_bar['Year'] = pd.to_datetime(df_bar['PlantDate'], format='%m/%d/%y %H:%M').dt.year"
   ]
  },
  {
   "cell_type": "code",
   "execution_count": 6,
   "metadata": {},
   "outputs": [],
   "source": [
    "df_bar = df_bar.dropna(subset=['Year'])"
   ]
  },
  {
   "cell_type": "code",
   "execution_count": 7,
   "metadata": {},
   "outputs": [],
   "source": [
    "df_bar['Year'] = df_bar['Year'].astype(int)"
   ]
  },
  {
   "cell_type": "code",
   "execution_count": 8,
   "metadata": {},
   "outputs": [],
   "source": [
    "df_bar = df_bar[df_bar['Year'] <= 2021]"
   ]
  },
  {
   "cell_type": "code",
   "execution_count": 9,
   "metadata": {},
   "outputs": [],
   "source": [
    "annual_summary = df_bar.groupby('Year').agg(\n",
    "    Total_Trees=pd.NamedAgg(column='TreeID', aggfunc='count'),\n",
    "    Private_Trees=pd.NamedAgg(column='qCaretaker', aggfunc=lambda x: (x == 'Private').sum()),\n",
    "    DPW_Trees=pd.NamedAgg(column='qCaretaker', aggfunc=lambda x: (x == 'DPW').sum())\n",
    ").reset_index()"
   ]
  },
  {
   "cell_type": "code",
   "execution_count": 10,
   "metadata": {},
   "outputs": [
    {
     "name": "stdout",
     "output_type": "stream",
     "text": [
      "    Year  Total_Trees  Private_Trees  DPW_Trees\n",
      "0   1969           87             87          0\n",
      "1   1970           21             21          0\n",
      "2   1972          409            409          0\n",
      "3   1973          168            168          0\n",
      "4   1974          103            103          0\n",
      "5   1975           20             20          0\n",
      "6   1976           90             90          0\n",
      "7   1977           79             79          0\n",
      "8   1978           61             61          0\n",
      "9   1979          101            101          0\n",
      "10  1980          138            136          2\n",
      "11  1981          113            112          1\n",
      "12  1982          149            147          2\n",
      "13  1983          164            163          1\n",
      "14  1984          112            112          0\n",
      "15  1985          168            168          0\n",
      "16  1986          201            200          1\n",
      "17  1987          214            214          0\n",
      "18  1988          140            139          1\n",
      "19  1989          181            170         11\n",
      "20  1990          320            271         49\n",
      "21  1991          209            181         28\n",
      "22  1992          373            286         87\n",
      "23  1993          365            322         43\n",
      "24  1994          242            200         42\n",
      "25  1995          590            486        104\n",
      "26  1996          436            407         29\n",
      "27  1997          418            318        100\n",
      "28  1998         1109           1052         57\n",
      "29  1999          452            416         36\n",
      "30  2000          762            713         49\n",
      "31  2001          389            367         22\n",
      "32  2002          601            582         19\n",
      "33  2003          519            462         57\n",
      "34  2004          266            229         37\n",
      "35  2005          421            332         89\n",
      "36  2006          529            265        264\n",
      "37  2007          566            314        252\n",
      "38  2008         1100            615        485\n",
      "39  2009          492            423         69\n",
      "40  2010          344            326         18\n",
      "41  2011          391            325         66\n",
      "42  2012          278            224         54\n",
      "43  2013          235            158         77\n",
      "44  2014          327            262         65\n",
      "45  2015          557            429        128\n",
      "46  2016          462            365         97\n",
      "47  2017          386            319         67\n",
      "48  2018          309            251         58\n",
      "49  2019          204            161         43\n",
      "50  2020          226            199         27\n",
      "51  2021          218            180         38\n"
     ]
    }
   ],
   "source": [
    "print(annual_summary)"
   ]
  },
  {
   "cell_type": "code",
   "execution_count": 11,
   "metadata": {},
   "outputs": [],
   "source": [
    "annual_summary.to_csv('annual_summary.csv', index=False)"
   ]
  },
  {
   "cell_type": "code",
   "execution_count": 12,
   "metadata": {},
   "outputs": [
    {
     "name": "stderr",
     "output_type": "stream",
     "text": [
      "/var/folders/w2/02kgc33150gg540z2kvhmgzm0000gn/T/ipykernel_61692/2172559333.py:1: DtypeWarning: Columns (1,2,3,5,6,7,9) have mixed types. Specify dtype option on import or set low_memory=False.\n",
      "  df_pie = pd.read_csv('Street_Tree_List-2022-01-30_RAW.csv')\n"
     ]
    }
   ],
   "source": [
    "df_pie = pd.read_csv('Street_Tree_List-2022-01-30_RAW.csv')"
   ]
  },
  {
   "cell_type": "code",
   "execution_count": 13,
   "metadata": {},
   "outputs": [],
   "source": [
    "df_pie.dropna(subset=['qSpecies'], inplace=True)"
   ]
  },
  {
   "cell_type": "code",
   "execution_count": 14,
   "metadata": {},
   "outputs": [],
   "source": [
    "df_pie = df_pie[df_pie['qCaretaker'].isin(['Private', 'DPW'])]"
   ]
  },
  {
   "cell_type": "code",
   "execution_count": 15,
   "metadata": {},
   "outputs": [],
   "source": [
    "df_pie['qSpecies'] = df_pie['qSpecies'].apply(lambda x: x.split(' :: ')[-1].strip())"
   ]
  },
  {
   "cell_type": "code",
   "execution_count": 16,
   "metadata": {},
   "outputs": [],
   "source": [
    "df_pie = df_pie[~df_pie['qSpecies'].str.contains(\"Tree\\(s\\) ::\", na=False)]"
   ]
  },
  {
   "cell_type": "code",
   "execution_count": 17,
   "metadata": {},
   "outputs": [],
   "source": [
    "df_pie = df_pie.groupby(['qCaretaker', 'qSpecies']).size().reset_index(name='Count')"
   ]
  },
  {
   "cell_type": "code",
   "execution_count": 18,
   "metadata": {},
   "outputs": [
    {
     "name": "stdout",
     "output_type": "stream",
     "text": [
      "    qCaretaker               qSpecies  Count\n",
      "0          DPW                     ::     13\n",
      "1          DPW                :: Tree      1\n",
      "2          DPW             Acacia Spp     12\n",
      "3          DPW  Acacia: Silver Wattle      1\n",
      "4          DPW                 Almond      4\n",
      "..         ...                    ...    ...\n",
      "694    Private             Yellow Box      1\n",
      "695    Private             Yellow Gum     14\n",
      "696    Private               Yew Pine     47\n",
      "697    Private         Yoshino Cherry     72\n",
      "698    Private                  Yucca      3\n",
      "\n",
      "[699 rows x 3 columns]\n"
     ]
    }
   ],
   "source": [
    "print(df_pie)"
   ]
  },
  {
   "cell_type": "code",
   "execution_count": 19,
   "metadata": {},
   "outputs": [],
   "source": [
    "df_pie.to_csv('caretaker_and_species.csv', index=False)"
   ]
  }
 ],
 "metadata": {
  "kernelspec": {
   "display_name": "myenv",
   "language": "python",
   "name": "myenv"
  },
  "language_info": {
   "codemirror_mode": {
    "name": "ipython",
    "version": 3
   },
   "file_extension": ".py",
   "mimetype": "text/x-python",
   "name": "python",
   "nbconvert_exporter": "python",
   "pygments_lexer": "ipython3",
   "version": "3.9.9"
  }
 },
 "nbformat": 4,
 "nbformat_minor": 4
}
